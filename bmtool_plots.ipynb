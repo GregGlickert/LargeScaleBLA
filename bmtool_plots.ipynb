{
 "cells": [
  {
   "cell_type": "code",
   "execution_count": 1,
   "id": "af83655e",
   "metadata": {},
   "outputs": [
    {
     "name": "stdout",
     "output_type": "stream",
     "text": [
      "Requirement already satisfied: neuron in c:\\nrn\\lib\\python (8.2.0)\n",
      "Requirement already satisfied: bmtk in c:\\users\\tyler\\anaconda3\\lib\\site-packages (1.0.6)\n",
      "Requirement already satisfied: bmtool in c:\\users\\tyler\\desktop\\git_stage\\bmtool (0.3.0)\n",
      "Requirement already satisfied: sympy in c:\\users\\tyler\\anaconda3\\lib\\site-packages (from bmtk) (1.9)\n",
      "Requirement already satisfied: matplotlib in c:\\users\\tyler\\anaconda3\\lib\\site-packages (from bmtk) (3.4.3)\n",
      "Requirement already satisfied: h5py in c:\\users\\tyler\\anaconda3\\lib\\site-packages (from bmtk) (3.2.1)\n",
      "Requirement already satisfied: jsonschema in c:\\users\\tyler\\anaconda3\\lib\\site-packages (from bmtk) (4.17.3)\n",
      "Requirement already satisfied: pandas in c:\\users\\tyler\\anaconda3\\lib\\site-packages (from bmtk) (1.3.4)\n",
      "Requirement already satisfied: six in c:\\users\\tyler\\anaconda3\\lib\\site-packages (from bmtk) (1.16.0)\n",
      "Requirement already satisfied: scikit-image in c:\\users\\tyler\\anaconda3\\lib\\site-packages (from bmtk) (0.18.3)\n",
      "Requirement already satisfied: scipy in c:\\users\\tyler\\anaconda3\\lib\\site-packages (from bmtk) (1.7.1)\n",
      "Requirement already satisfied: numpy in c:\\users\\tyler\\anaconda3\\lib\\site-packages (from bmtk) (1.20.3)\n",
      "Requirement already satisfied: click in c:\\users\\tyler\\anaconda3\\lib\\site-packages (from bmtool) (8.1.3)\n",
      "Requirement already satisfied: clint in c:\\users\\tyler\\anaconda3\\lib\\site-packages (from bmtool) (0.5.1)\n",
      "Requirement already satisfied: networkx in c:\\users\\tyler\\anaconda3\\lib\\site-packages (from bmtool) (2.6.3)\n",
      "Requirement already satisfied: questionary in c:\\users\\tyler\\anaconda3\\lib\\site-packages (from bmtool) (1.10.0)\n",
      "Requirement already satisfied: pynmodlt in c:\\users\\tyler\\anaconda3\\lib\\site-packages (from bmtool) (0.1.2)\n",
      "Requirement already satisfied: colorama in c:\\users\\tyler\\anaconda3\\lib\\site-packages (from click->bmtool) (0.4.4)\n",
      "Requirement already satisfied: args in c:\\users\\tyler\\anaconda3\\lib\\site-packages (from clint->bmtool) (0.1.0)\n",
      "Requirement already satisfied: attrs>=17.4.0 in c:\\users\\tyler\\anaconda3\\lib\\site-packages (from jsonschema->bmtk) (21.2.0)\n",
      "Requirement already satisfied: pyrsistent!=0.17.0,!=0.17.1,!=0.17.2,>=0.14.0 in c:\\users\\tyler\\anaconda3\\lib\\site-packages (from jsonschema->bmtk) (0.18.0)\n",
      "Requirement already satisfied: pillow>=6.2.0 in c:\\users\\tyler\\anaconda3\\lib\\site-packages (from matplotlib->bmtk) (8.4.0)\n",
      "Requirement already satisfied: cycler>=0.10 in c:\\users\\tyler\\anaconda3\\lib\\site-packages (from matplotlib->bmtk) (0.10.0)\n",
      "Requirement already satisfied: python-dateutil>=2.7 in c:\\users\\tyler\\anaconda3\\lib\\site-packages (from matplotlib->bmtk) (2.8.2)\n",
      "Requirement already satisfied: kiwisolver>=1.0.1 in c:\\users\\tyler\\anaconda3\\lib\\site-packages (from matplotlib->bmtk) (1.3.1)\n",
      "Requirement already satisfied: pyparsing>=2.2.1 in c:\\users\\tyler\\anaconda3\\lib\\site-packages (from matplotlib->bmtk) (3.0.4)\n",
      "Requirement already satisfied: pytz>=2017.3 in c:\\users\\tyler\\anaconda3\\lib\\site-packages (from pandas->bmtk) (2021.3)\n",
      "Requirement already satisfied: xmltodict in c:\\users\\tyler\\anaconda3\\lib\\site-packages (from pynmodlt->bmtool) (0.12.0)\n",
      "Requirement already satisfied: textx==1.6.1 in c:\\users\\tyler\\anaconda3\\lib\\site-packages (from pynmodlt->bmtool) (1.6.1)\n",
      "Requirement already satisfied: Arpeggio in c:\\users\\tyler\\anaconda3\\lib\\site-packages (from textx==1.6.1->pynmodlt->bmtool) (2.0.0)\n",
      "Requirement already satisfied: prompt_toolkit<4.0,>=2.0 in c:\\users\\tyler\\anaconda3\\lib\\site-packages (from questionary->bmtool) (3.0.36)\n",
      "Requirement already satisfied: wcwidth in c:\\users\\tyler\\anaconda3\\lib\\site-packages (from prompt_toolkit<4.0,>=2.0->questionary->bmtool) (0.2.5)\n",
      "Requirement already satisfied: imageio>=2.3.0 in c:\\users\\tyler\\anaconda3\\lib\\site-packages (from scikit-image->bmtk) (2.9.0)\n",
      "Requirement already satisfied: tifffile>=2019.7.26 in c:\\users\\tyler\\anaconda3\\lib\\site-packages (from scikit-image->bmtk) (2021.7.2)\n",
      "Requirement already satisfied: PyWavelets>=1.1.1 in c:\\users\\tyler\\anaconda3\\lib\\site-packages (from scikit-image->bmtk) (1.1.1)\n",
      "Requirement already satisfied: mpmath>=0.19 in c:\\users\\tyler\\anaconda3\\lib\\site-packages (from sympy->bmtk) (1.2.1)\n"
     ]
    }
   ],
   "source": [
    "!pip install neuron bmtk bmtool "
   ]
  },
  {
   "cell_type": "code",
   "execution_count": 1,
   "id": "7390f433",
   "metadata": {},
   "outputs": [],
   "source": [
    "from bmtool import bmplot\n",
    "%matplotlib inline"
   ]
  },
  {
   "cell_type": "code",
   "execution_count": 2,
   "id": "8218b29d",
   "metadata": {},
   "outputs": [
    {
     "name": "stdout",
     "output_type": "stream",
     "text": [
      "Inside a notebook:\n",
      "Network and node info:\n",
      "BLA:\n",
      "   node_type pop_name   model_type        model_template morphology  count\n",
      "0        100     PyrA  biophysical           hoc:Cell_Af               569\n",
      "1        101     PyrC  biophysical           hoc:Cell_Cf               231\n",
      "2        102       PV  biophysical  hoc:InterneuronCellf                93\n",
      "3        103      SOM  biophysical          hoc:SOM_Cell                51\n",
      "4        104       CR  biophysical           hoc:CR_Cell                56\n",
      "vpsi_inh:\n",
      "   node_type pop_name model_type  count\n",
      "0        100  inh_inp    virtual    893\n",
      "thalamus_pyr:\n",
      "   node_type pop_name model_type  count\n",
      "0        100  pyr_inp    virtual    800\n",
      "thalamus_som:\n",
      "   node_type pop_name model_type  count\n",
      "0        100  som_inp    virtual     51\n",
      "thalamus_cr:\n",
      "   node_type pop_name model_type  count\n",
      "0        100   cr_inp    virtual     56\n",
      "Please wait. This may take a while depending on your network size...\n",
      "Plotting current clamp info...\n",
      "     No current clamps were found.\n",
      "Plotting spike Train info...\n"
     ]
    },
    {
     "name": "stderr",
     "output_type": "stream",
     "text": [
      "c:\\users\\tyler\\desktop\\git_stage\\bmtool\\bmtool\\bmplot.py:369: MatplotlibDeprecationWarning: Axes3D(fig) adding itself to the figure is deprecated since 3.4. Pass the keyword argument auto_add_to_figure=False and use fig.add_axes(ax) to suppress this warning. The default value of auto_add_to_figure will change to False in mpl3.5 and True values will no longer work in 3.6.  This is consistent with other Axes classes.\n",
      "  ax = Axes3D(fig)\n",
      "C:\\Users\\tyler\\anaconda3\\lib\\site-packages\\ipykernel\\eventloops.py:256: RuntimeWarning: coroutine 'Kernel.do_one_iteration' was never awaited\n",
      "  self.func()\n",
      "RuntimeWarning: Enable tracemalloc to get the object allocation traceback\n"
     ]
    }
   ],
   "source": [
    "bmplot.sim_setup(\"simulation_configECP_base_homogenous.json\")"
   ]
  },
  {
   "cell_type": "code",
   "execution_count": null,
   "id": "4a54aa8c",
   "metadata": {},
   "outputs": [],
   "source": []
  }
 ],
 "metadata": {
  "kernelspec": {
   "display_name": "Python 3 (ipykernel)",
   "language": "python",
   "name": "python3"
  },
  "language_info": {
   "codemirror_mode": {
    "name": "ipython",
    "version": 3
   },
   "file_extension": ".py",
   "mimetype": "text/x-python",
   "name": "python",
   "nbconvert_exporter": "python",
   "pygments_lexer": "ipython3",
   "version": "3.9.7"
  }
 },
 "nbformat": 4,
 "nbformat_minor": 5
}
